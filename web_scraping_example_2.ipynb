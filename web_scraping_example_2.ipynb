{
 "cells": [
  {
   "cell_type": "markdown",
   "metadata": {},
   "source": [
    "# Web Scraping Example 2: shuoshuodaitupian.com\n",
    "\n",
    "In this example, we will use web scraping to obtain some beautiful sentences written by `Alain de Botton`. The links are in the form of:\n",
    "\n",
    "`http://www.shuoshuodaitupian.com/writer/747`\n",
    "\n",
    "There are 5 pages in total. The links have the same prefix and only change their suffix from `747` to `747_2`, `747_3` and so on."
   ]
  },
  {
   "cell_type": "code",
   "execution_count": 1,
   "metadata": {},
   "outputs": [
    {
     "name": "stdout",
     "output_type": "stream",
     "text": [
      "I am scraping page 1\n",
      "I am scraping page 2\n",
      "I am scraping page 3\n",
      "I am scraping page 4\n",
      "I am scraping page 5\n"
     ]
    }
   ],
   "source": [
    "import requests\n",
    "import bs4\n",
    "import pandas as pd\n",
    "import time\n",
    "\n",
    "sentences = []\n",
    "for i in range(0, 5):# page 1 to page 5\n",
    "    if i == 0:\n",
    "        url = 'http://www.shuoshuodaitupian.com/writer/747'\n",
    "    else:\n",
    "        url = 'http://www.shuoshuodaitupian.com/writer/747_' + str(i + 1) \n",
    "    response = requests.get(url)\n",
    "    \n",
    "    \n",
    "    soup = bs4.BeautifulSoup(response.text) \n",
    "    sentences_each_page = [i.text for i in soup.findAll(name = 'a', attrs={'class':'content-box'})]\n",
    "    for s in sentences_each_page:\n",
    "        sentences.append(s)\n",
    "    \n",
    "    print('I am scraping page %d'% (i+1))\n",
    "    time.sleep(0.1)"
   ]
  },
  {
   "cell_type": "code",
   "execution_count": 2,
   "metadata": {
    "scrolled": true
   },
   "outputs": [
    {
     "data": {
      "text/html": [
       "<div>\n",
       "<style scoped>\n",
       "    .dataframe tbody tr th:only-of-type {\n",
       "        vertical-align: middle;\n",
       "    }\n",
       "\n",
       "    .dataframe tbody tr th {\n",
       "        vertical-align: top;\n",
       "    }\n",
       "\n",
       "    .dataframe thead th {\n",
       "        text-align: right;\n",
       "    }\n",
       "</style>\n",
       "<table border=\"1\" class=\"dataframe\">\n",
       "  <thead>\n",
       "    <tr style=\"text-align: right;\">\n",
       "      <th></th>\n",
       "      <th>sentence by Alain de Botton</th>\n",
       "    </tr>\n",
       "  </thead>\n",
       "  <tbody>\n",
       "    <tr>\n",
       "      <th>0</th>\n",
       "      <td>任何事情，到了明天，都会比今天更少使人感兴趣。</td>\n",
       "    </tr>\n",
       "    <tr>\n",
       "      <th>1</th>\n",
       "      <td>伟大的头脑倾向于平凡。</td>\n",
       "    </tr>\n",
       "    <tr>\n",
       "      <th>2</th>\n",
       "      <td>我生活在妙不可言的等待中，等待随便哪种未来。</td>\n",
       "    </tr>\n",
       "    <tr>\n",
       "      <th>3</th>\n",
       "      <td>忧伤，无非是低落的热情。</td>\n",
       "    </tr>\n",
       "    <tr>\n",
       "      <th>4</th>\n",
       "      <td>借芦苇的摆动我们才认识风，但风还是比芦苇更重要。</td>\n",
       "    </tr>\n",
       "    <tr>\n",
       "      <th>...</th>\n",
       "      <td>...</td>\n",
       "    </tr>\n",
       "    <tr>\n",
       "      <th>115</th>\n",
       "      <td>读一本严肃的书不仅要花时间，还要留出感情空间，使人先产生种种联想、以后再从种种担忧中得到解脱。</td>\n",
       "    </tr>\n",
       "    <tr>\n",
       "      <th>116</th>\n",
       "      <td>爱只是一个方向，不是一个地点。</td>\n",
       "    </tr>\n",
       "    <tr>\n",
       "      <th>117</th>\n",
       "      <td>美感标志着我们邂逅了我们心目中的美好生活的具体表现。</td>\n",
       "    </tr>\n",
       "    <tr>\n",
       "      <th>118</th>\n",
       "      <td>废墟是无限的时间的代表，与无限时间相比，我们虚弱的、短暂的生命与飞蛾或蜘蛛的生命一样微不足道。</td>\n",
       "    </tr>\n",
       "    <tr>\n",
       "      <th>119</th>\n",
       "      <td>若是别人的说法较自己苦思冥想所得更有意思，断不可错失良机，拒不引用。</td>\n",
       "    </tr>\n",
       "  </tbody>\n",
       "</table>\n",
       "<p>120 rows × 1 columns</p>\n",
       "</div>"
      ],
      "text/plain": [
       "                         sentence by Alain de Botton\n",
       "0                            任何事情，到了明天，都会比今天更少使人感兴趣。\n",
       "1                                        伟大的头脑倾向于平凡。\n",
       "2                             我生活在妙不可言的等待中，等待随便哪种未来。\n",
       "3                                       忧伤，无非是低落的热情。\n",
       "4                           借芦苇的摆动我们才认识风，但风还是比芦苇更重要。\n",
       "..                                               ...\n",
       "115  读一本严肃的书不仅要花时间，还要留出感情空间，使人先产生种种联想、以后再从种种担忧中得到解脱。\n",
       "116                                  爱只是一个方向，不是一个地点。\n",
       "117                       美感标志着我们邂逅了我们心目中的美好生活的具体表现。\n",
       "118  废墟是无限的时间的代表，与无限时间相比，我们虚弱的、短暂的生命与飞蛾或蜘蛛的生命一样微不足道。\n",
       "119               若是别人的说法较自己苦思冥想所得更有意思，断不可错失良机，拒不引用。\n",
       "\n",
       "[120 rows x 1 columns]"
      ]
     },
     "execution_count": 2,
     "metadata": {},
     "output_type": "execute_result"
    }
   ],
   "source": [
    "pd.DataFrame({'sentence by Alain de Botton': sentences})"
   ]
  }
 ],
 "metadata": {
  "kernelspec": {
   "display_name": "Python 3",
   "language": "python",
   "name": "python3"
  },
  "language_info": {
   "codemirror_mode": {
    "name": "ipython",
    "version": 3
   },
   "file_extension": ".py",
   "mimetype": "text/x-python",
   "name": "python",
   "nbconvert_exporter": "python",
   "pygments_lexer": "ipython3",
   "version": "3.7.3"
  },
  "toc": {
   "base_numbering": 1,
   "nav_menu": {},
   "number_sections": true,
   "sideBar": true,
   "skip_h1_title": false,
   "title_cell": "Table of Contents",
   "title_sidebar": "Contents",
   "toc_cell": false,
   "toc_position": {},
   "toc_section_display": true,
   "toc_window_display": false
  }
 },
 "nbformat": 4,
 "nbformat_minor": 2
}
